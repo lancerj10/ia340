{
 "cells": [
  {
   "cell_type": "markdown",
   "id": "4eff9371",
   "metadata": {},
   "source": [
    "# Lab 4"
   ]
  },
  {
   "cell_type": "markdown",
   "id": "2e293433",
   "metadata": {},
   "source": [
    "## import libs and connect to database"
   ]
  },
  {
   "cell_type": "code",
   "execution_count": 74,
   "id": "83facee4",
   "metadata": {},
   "outputs": [],
   "source": [
    "import pandas\n",
    "import configparser\n",
    "import psycopg2"
   ]
  },
  {
   "cell_type": "markdown",
   "id": "2b0504a5",
   "metadata": {},
   "source": [
    "## connect to the db and create a cursor"
   ]
  },
  {
   "cell_type": "code",
   "execution_count": 75,
   "id": "e3a1c2c2",
   "metadata": {},
   "outputs": [],
   "source": [
    "config = configparser.ConfigParser()\n",
    "config.read('config.ini')\n",
    "\n",
    "host=config['myaws']['host']\n",
    "db=config['myaws']['db']\n",
    "user=config['myaws']['user']\n",
    "pwd = config['myaws']['pwd']\n",
    "\n",
    "conn = psycopg2.connect(  host=host,\n",
    "                       user=user,\n",
    "                       password = pwd,\n",
    "                       dbname=db)"
   ]
  },
  {
   "cell_type": "code",
   "execution_count": 76,
   "id": "a6e6156d",
   "metadata": {},
   "outputs": [],
   "source": [
    "cur=conn.cursor()"
   ]
  },
  {
   "cell_type": "markdown",
   "id": "693cb394",
   "metadata": {},
   "source": [
    "## q1"
   ]
  },
  {
   "cell_type": "code",
   "execution_count": 77,
   "id": "27b25ba7",
   "metadata": {},
   "outputs": [],
   "source": [
    "q1_sql = \"\"\"\n",
    "        select * from gp12.student\n",
    "        \"\"\""
   ]
  },
  {
   "cell_type": "code",
   "execution_count": 78,
   "id": "e29bd95f",
   "metadata": {},
   "outputs": [
    {
     "data": {
      "text/html": [
       "<div>\n",
       "<style scoped>\n",
       "    .dataframe tbody tr th:only-of-type {\n",
       "        vertical-align: middle;\n",
       "    }\n",
       "\n",
       "    .dataframe tbody tr th {\n",
       "        vertical-align: top;\n",
       "    }\n",
       "\n",
       "    .dataframe thead th {\n",
       "        text-align: right;\n",
       "    }\n",
       "</style>\n",
       "<table border=\"1\" class=\"dataframe\">\n",
       "  <thead>\n",
       "    <tr style=\"text-align: right;\">\n",
       "      <th></th>\n",
       "      <th>s_email</th>\n",
       "      <th>s_name</th>\n",
       "      <th>major</th>\n",
       "    </tr>\n",
       "  </thead>\n",
       "  <tbody>\n",
       "    <tr>\n",
       "      <th>0</th>\n",
       "      <td>s1@jmu.edu</td>\n",
       "      <td>s1</td>\n",
       "      <td>IA</td>\n",
       "    </tr>\n",
       "    <tr>\n",
       "      <th>1</th>\n",
       "      <td>s2@jmu.edu</td>\n",
       "      <td>s2</td>\n",
       "      <td>IA</td>\n",
       "    </tr>\n",
       "    <tr>\n",
       "      <th>2</th>\n",
       "      <td>s3@jmu.edu</td>\n",
       "      <td>s3</td>\n",
       "      <td>IA</td>\n",
       "    </tr>\n",
       "    <tr>\n",
       "      <th>3</th>\n",
       "      <td>s4@jmu.edu</td>\n",
       "      <td>s4</td>\n",
       "      <td>IA</td>\n",
       "    </tr>\n",
       "    <tr>\n",
       "      <th>4</th>\n",
       "      <td>s5@jmu.edu</td>\n",
       "      <td>s5</td>\n",
       "      <td>IA</td>\n",
       "    </tr>\n",
       "    <tr>\n",
       "      <th>5</th>\n",
       "      <td>s6@jmu.edu</td>\n",
       "      <td>s6</td>\n",
       "      <td>IA</td>\n",
       "    </tr>\n",
       "    <tr>\n",
       "      <th>6</th>\n",
       "      <td>s7@jmu.edu</td>\n",
       "      <td>s7</td>\n",
       "      <td>IA</td>\n",
       "    </tr>\n",
       "    <tr>\n",
       "      <th>7</th>\n",
       "      <td>s8@jmu.edu</td>\n",
       "      <td>s8</td>\n",
       "      <td>IA</td>\n",
       "    </tr>\n",
       "    <tr>\n",
       "      <th>8</th>\n",
       "      <td>s9@jmu.edu</td>\n",
       "      <td>s9</td>\n",
       "      <td>IA</td>\n",
       "    </tr>\n",
       "    <tr>\n",
       "      <th>9</th>\n",
       "      <td>s10@jmu.edu</td>\n",
       "      <td>s10</td>\n",
       "      <td>IA</td>\n",
       "    </tr>\n",
       "  </tbody>\n",
       "</table>\n",
       "</div>"
      ],
      "text/plain": [
       "       s_email s_name major\n",
       "0   s1@jmu.edu     s1    IA\n",
       "1   s2@jmu.edu     s2    IA\n",
       "2   s3@jmu.edu     s3    IA\n",
       "3   s4@jmu.edu     s4    IA\n",
       "4   s5@jmu.edu     s5    IA\n",
       "5   s6@jmu.edu     s6    IA\n",
       "6   s7@jmu.edu     s7    IA\n",
       "7   s8@jmu.edu     s8    IA\n",
       "8   s9@jmu.edu     s9    IA\n",
       "9  s10@jmu.edu    s10    IA"
      ]
     },
     "execution_count": 78,
     "metadata": {},
     "output_type": "execute_result"
    }
   ],
   "source": [
    "df= pandas.read_sql_query(q1_sql,conn)\n",
    "df[:]"
   ]
  },
  {
   "cell_type": "markdown",
   "id": "83a399ca",
   "metadata": {},
   "source": [
    "## q2"
   ]
  },
  {
   "cell_type": "code",
   "execution_count": 79,
   "id": "6f98921e",
   "metadata": {},
   "outputs": [],
   "source": [
    "q2_sql = \"\"\"\n",
    "        select gp12.professor.p_name,\n",
    "        gp12.course.c_name\n",
    "        from gp12.professor\n",
    "        inner join gp12.course\n",
    "        on gp12.professor.p_email = gp12.course.p_email\n",
    "        \"\"\""
   ]
  },
  {
   "cell_type": "code",
   "execution_count": 80,
   "id": "f7c8e303",
   "metadata": {},
   "outputs": [
    {
     "data": {
      "text/html": [
       "<div>\n",
       "<style scoped>\n",
       "    .dataframe tbody tr th:only-of-type {\n",
       "        vertical-align: middle;\n",
       "    }\n",
       "\n",
       "    .dataframe tbody tr th {\n",
       "        vertical-align: top;\n",
       "    }\n",
       "\n",
       "    .dataframe thead th {\n",
       "        text-align: right;\n",
       "    }\n",
       "</style>\n",
       "<table border=\"1\" class=\"dataframe\">\n",
       "  <thead>\n",
       "    <tr style=\"text-align: right;\">\n",
       "      <th></th>\n",
       "      <th>p_name</th>\n",
       "      <th>c_name</th>\n",
       "    </tr>\n",
       "  </thead>\n",
       "  <tbody>\n",
       "    <tr>\n",
       "      <th>0</th>\n",
       "      <td>ronald raab</td>\n",
       "      <td>awareness and understanding wmds</td>\n",
       "    </tr>\n",
       "    <tr>\n",
       "      <th>1</th>\n",
       "      <td>noel hendrickson</td>\n",
       "      <td>counterfactual reasoning</td>\n",
       "    </tr>\n",
       "    <tr>\n",
       "      <th>2</th>\n",
       "      <td>orlandrew danzell</td>\n",
       "      <td>anti money laundering</td>\n",
       "    </tr>\n",
       "    <tr>\n",
       "      <th>3</th>\n",
       "      <td>new</td>\n",
       "      <td>new_c_name</td>\n",
       "    </tr>\n",
       "    <tr>\n",
       "      <th>4</th>\n",
       "      <td>new_p</td>\n",
       "      <td>data mining</td>\n",
       "    </tr>\n",
       "  </tbody>\n",
       "</table>\n",
       "</div>"
      ],
      "text/plain": [
       "              p_name                            c_name\n",
       "0        ronald raab  awareness and understanding wmds\n",
       "1   noel hendrickson          counterfactual reasoning\n",
       "2  orlandrew danzell             anti money laundering\n",
       "3                new                        new_c_name\n",
       "4              new_p                       data mining"
      ]
     },
     "execution_count": 80,
     "metadata": {},
     "output_type": "execute_result"
    }
   ],
   "source": [
    "df=pandas.read_sql_query(q2_sql,conn)\n",
    "df[:]"
   ]
  },
  {
   "cell_type": "markdown",
   "id": "6cf7c1e5",
   "metadata": {},
   "source": [
    "## q3"
   ]
  },
  {
   "cell_type": "code",
   "execution_count": 81,
   "id": "9c581cee",
   "metadata": {},
   "outputs": [],
   "source": [
    "q3_sql = \"\"\"\n",
    "        select c_number,\n",
    "        count(c_number) as num_enroll\n",
    "        from gp12.enroll_list\n",
    "        group by c_number\n",
    "        \"\"\""
   ]
  },
  {
   "cell_type": "code",
   "execution_count": 82,
   "id": "0699f7ff",
   "metadata": {},
   "outputs": [
    {
     "data": {
      "text/html": [
       "<div>\n",
       "<style scoped>\n",
       "    .dataframe tbody tr th:only-of-type {\n",
       "        vertical-align: middle;\n",
       "    }\n",
       "\n",
       "    .dataframe tbody tr th {\n",
       "        vertical-align: top;\n",
       "    }\n",
       "\n",
       "    .dataframe thead th {\n",
       "        text-align: right;\n",
       "    }\n",
       "</style>\n",
       "<table border=\"1\" class=\"dataframe\">\n",
       "  <thead>\n",
       "    <tr style=\"text-align: right;\">\n",
       "      <th></th>\n",
       "      <th>c_number</th>\n",
       "      <th>num_enroll</th>\n",
       "    </tr>\n",
       "  </thead>\n",
       "  <tbody>\n",
       "    <tr>\n",
       "      <th>0</th>\n",
       "      <td>IA340</td>\n",
       "      <td>10</td>\n",
       "    </tr>\n",
       "  </tbody>\n",
       "</table>\n",
       "</div>"
      ],
      "text/plain": [
       "  c_number  num_enroll\n",
       "0    IA340          10"
      ]
     },
     "execution_count": 82,
     "metadata": {},
     "output_type": "execute_result"
    }
   ],
   "source": [
    "df=pandas.read_sql_query(q3_sql,conn)\n",
    "df[:]"
   ]
  },
  {
   "cell_type": "code",
   "execution_count": 83,
   "id": "c9846ca5",
   "metadata": {},
   "outputs": [
    {
     "data": {
      "text/plain": [
       "<AxesSubplot:xlabel='c_number'>"
      ]
     },
     "execution_count": 83,
     "metadata": {},
     "output_type": "execute_result"
    },
    {
     "data": {
      "image/png": "[encoded data removed]",
      "text/plain": [
       "<Figure size 432x288 with 1 Axes>"
      ]
     },
     "metadata": {
      "needs_background": "light"
     },
     "output_type": "display_data"
    }
   ],
   "source": [
    "df.plot.bar(x='c_number',y='num_enroll')"
   ]
  },
  {
   "cell_type": "markdown",
   "id": "35549bb1",
   "metadata": {},
   "source": [
    "## q4"
   ]
  },
  {
   "cell_type": "code",
   "execution_count": 84,
   "id": "1d7a7287",
   "metadata": {},
   "outputs": [],
   "source": [
    "q4_sql = \"\"\"\n",
    "        select gp12.professor.p_name,\n",
    "        count(gp12.course.c_name) as num_course\n",
    "        from gp12.professor\n",
    "        inner join gp12.course\n",
    "        on gp12.professor.p_email = gp12.course.p_email\n",
    "        group by gp12.professor.p_name\n",
    "        \"\"\""
   ]
  },
  {
   "cell_type": "code",
   "execution_count": 85,
   "id": "98e4d5b5",
   "metadata": {},
   "outputs": [
    {
     "data": {
      "text/html": [
       "<div>\n",
       "<style scoped>\n",
       "    .dataframe tbody tr th:only-of-type {\n",
       "        vertical-align: middle;\n",
       "    }\n",
       "\n",
       "    .dataframe tbody tr th {\n",
       "        vertical-align: top;\n",
       "    }\n",
       "\n",
       "    .dataframe thead th {\n",
       "        text-align: right;\n",
       "    }\n",
       "</style>\n",
       "<table border=\"1\" class=\"dataframe\">\n",
       "  <thead>\n",
       "    <tr style=\"text-align: right;\">\n",
       "      <th></th>\n",
       "      <th>p_name</th>\n",
       "      <th>num_course</th>\n",
       "    </tr>\n",
       "  </thead>\n",
       "  <tbody>\n",
       "    <tr>\n",
       "      <th>0</th>\n",
       "      <td>ronald raab</td>\n",
       "      <td>1</td>\n",
       "    </tr>\n",
       "    <tr>\n",
       "      <th>1</th>\n",
       "      <td>new_p</td>\n",
       "      <td>1</td>\n",
       "    </tr>\n",
       "    <tr>\n",
       "      <th>2</th>\n",
       "      <td>orlandrew danzell</td>\n",
       "      <td>1</td>\n",
       "    </tr>\n",
       "    <tr>\n",
       "      <th>3</th>\n",
       "      <td>noel hendrickson</td>\n",
       "      <td>1</td>\n",
       "    </tr>\n",
       "    <tr>\n",
       "      <th>4</th>\n",
       "      <td>new</td>\n",
       "      <td>1</td>\n",
       "    </tr>\n",
       "  </tbody>\n",
       "</table>\n",
       "</div>"
      ],
      "text/plain": [
       "              p_name  num_course\n",
       "0        ronald raab           1\n",
       "1              new_p           1\n",
       "2  orlandrew danzell           1\n",
       "3   noel hendrickson           1\n",
       "4                new           1"
      ]
     },
     "execution_count": 85,
     "metadata": {},
     "output_type": "execute_result"
    }
   ],
   "source": [
    "df=pandas.read_sql_query(q4_sql,conn)\n",
    "df[:]"
   ]
  },
  {
   "cell_type": "code",
   "execution_count": 86,
   "id": "6774811c",
   "metadata": {},
   "outputs": [
    {
     "data": {
      "text/plain": [
       "<AxesSubplot:xlabel='p_name'>"
      ]
     },
     "execution_count": 86,
     "metadata": {},
     "output_type": "execute_result"
    },
    {
     "data": {
      "image/png": "[encoded data removed]",
      "text/plain": [
       "<Figure size 432x288 with 1 Axes>"
      ]
     },
     "metadata": {
      "needs_background": "light"
     },
     "output_type": "display_data"
    }
   ],
   "source": [
    "df.plot.bar(x='p_name',y='num_course')"
   ]
  },
  {
   "cell_type": "markdown",
   "id": "8118b087",
   "metadata": {},
   "source": [
    "## q5"
   ]
  },
  {
   "cell_type": "code",
   "execution_count": 87,
   "id": "d300bb6a",
   "metadata": {},
   "outputs": [
    {
     "name": "stdout",
     "output_type": "stream",
     "text": [
      "\n",
      "            insert into gp12.professor(p_email,p_name,p_office)\n",
      "            values('new_lab4_email','new_p_lab4_name','new_lab4_o')\n",
      "            \n"
     ]
    }
   ],
   "source": [
    "q5_insert_professor_sql = \"\"\"\n",
    "            insert into gp12.professor(p_email,p_name,p_office)\n",
    "            values('{}','{}','{}')\n",
    "            \"\"\".format('new_lab4_email','new_p_lab4_name','new_lab4_o')\n",
    "print(q5_insert_professor_sql)"
   ]
  },
  {
   "cell_type": "code",
   "execution_count": 88,
   "id": "6b0ceb64",
   "metadata": {},
   "outputs": [],
   "source": [
    "cur.execute(q5_insert_professor_sql)"
   ]
  },
  {
   "cell_type": "code",
   "execution_count": 89,
   "id": "939ec64b",
   "metadata": {},
   "outputs": [],
   "source": [
    "# conn.rollback() #if error, rollback"
   ]
  },
  {
   "cell_type": "code",
   "execution_count": 90,
   "id": "dc5e07f0",
   "metadata": {},
   "outputs": [],
   "source": [
    "conn.commit() # no error. commit"
   ]
  },
  {
   "cell_type": "code",
   "execution_count": 91,
   "id": "368a591e",
   "metadata": {
    "scrolled": true
   },
   "outputs": [
    {
     "data": {
      "text/html": [
       "<div>\n",
       "<style scoped>\n",
       "    .dataframe tbody tr th:only-of-type {\n",
       "        vertical-align: middle;\n",
       "    }\n",
       "\n",
       "    .dataframe tbody tr th {\n",
       "        vertical-align: top;\n",
       "    }\n",
       "\n",
       "    .dataframe thead th {\n",
       "        text-align: right;\n",
       "    }\n",
       "</style>\n",
       "<table border=\"1\" class=\"dataframe\">\n",
       "  <thead>\n",
       "    <tr style=\"text-align: right;\">\n",
       "      <th></th>\n",
       "      <th>p_email</th>\n",
       "      <th>p_name</th>\n",
       "      <th>p_office</th>\n",
       "    </tr>\n",
       "  </thead>\n",
       "  <tbody>\n",
       "    <tr>\n",
       "      <th>0</th>\n",
       "      <td>raabrw@jmu.edu</td>\n",
       "      <td>ronald raab</td>\n",
       "      <td>ISAT 156</td>\n",
       "    </tr>\n",
       "    <tr>\n",
       "      <th>1</th>\n",
       "      <td>hendrinx@jmu.edu</td>\n",
       "      <td>noel hendrickson</td>\n",
       "      <td>ISAT 200</td>\n",
       "    </tr>\n",
       "    <tr>\n",
       "      <th>2</th>\n",
       "      <td>danzelox@jmu.edu</td>\n",
       "      <td>orlandrew danzell</td>\n",
       "      <td>ISAT 107</td>\n",
       "    </tr>\n",
       "    <tr>\n",
       "      <th>3</th>\n",
       "      <td>new_p@jmu.edu</td>\n",
       "      <td>new_p</td>\n",
       "      <td>new_office</td>\n",
       "    </tr>\n",
       "    <tr>\n",
       "      <th>4</th>\n",
       "      <td>new@jmu.edu</td>\n",
       "      <td>new</td>\n",
       "      <td>new</td>\n",
       "    </tr>\n",
       "    <tr>\n",
       "      <th>5</th>\n",
       "      <td>new_pp@jmu.edu</td>\n",
       "      <td>new_p</td>\n",
       "      <td>new_offic</td>\n",
       "    </tr>\n",
       "    <tr>\n",
       "      <th>6</th>\n",
       "      <td>new_lab4_email</td>\n",
       "      <td>new_p_lab4_name</td>\n",
       "      <td>new_lab4_o</td>\n",
       "    </tr>\n",
       "  </tbody>\n",
       "</table>\n",
       "</div>"
      ],
      "text/plain": [
       "            p_email             p_name    p_office\n",
       "0    raabrw@jmu.edu        ronald raab    ISAT 156\n",
       "1  hendrinx@jmu.edu   noel hendrickson    ISAT 200\n",
       "2  danzelox@jmu.edu  orlandrew danzell    ISAT 107\n",
       "3     new_p@jmu.edu              new_p  new_office\n",
       "4       new@jmu.edu                new         new\n",
       "5    new_pp@jmu.edu              new_p   new_offic\n",
       "6    new_lab4_email    new_p_lab4_name  new_lab4_o"
      ]
     },
     "execution_count": 91,
     "metadata": {},
     "output_type": "execute_result"
    }
   ],
   "source": [
    "df=pandas.read_sql_query('select * from gp12.professor',conn)\n",
    "df[:]"
   ]
  },
  {
   "cell_type": "code",
   "execution_count": 92,
   "id": "c8e9d85c",
   "metadata": {},
   "outputs": [
    {
     "name": "stdout",
     "output_type": "stream",
     "text": [
      "\n",
      "            insert into gp12.course(c_number,c_name,c_room,p_email)\n",
      "            values('new_lab4_c','new_lab4_n','new_lab4_r','new_lab4_email')\n",
      "            \n"
     ]
    }
   ],
   "source": [
    "q5_insert_course_sql = \"\"\"\n",
    "            insert into gp12.course(c_number,c_name,c_room,p_email)\n",
    "            values('{}','{}','{}','{}')\n",
    "            \"\"\".format('new_lab4_c','new_lab4_n','new_lab4_r','new_lab4_email')\n",
    "print(q5_insert_course_sql)"
   ]
  },
  {
   "cell_type": "code",
   "execution_count": 93,
   "id": "17df71ad",
   "metadata": {},
   "outputs": [],
   "source": [
    "cur.execute(q5_insert_course_sql)"
   ]
  },
  {
   "cell_type": "code",
   "execution_count": 94,
   "id": "69f9feeb",
   "metadata": {},
   "outputs": [],
   "source": [
    "conn.commit()"
   ]
  },
  {
   "cell_type": "code",
   "execution_count": 95,
   "id": "8ff94cc0",
   "metadata": {},
   "outputs": [
    {
     "data": {
      "text/html": [
       "<div>\n",
       "<style scoped>\n",
       "    .dataframe tbody tr th:only-of-type {\n",
       "        vertical-align: middle;\n",
       "    }\n",
       "\n",
       "    .dataframe tbody tr th {\n",
       "        vertical-align: top;\n",
       "    }\n",
       "\n",
       "    .dataframe thead th {\n",
       "        text-align: right;\n",
       "    }\n",
       "</style>\n",
       "<table border=\"1\" class=\"dataframe\">\n",
       "  <thead>\n",
       "    <tr style=\"text-align: right;\">\n",
       "      <th></th>\n",
       "      <th>c_number</th>\n",
       "      <th>c_name</th>\n",
       "      <th>c_room</th>\n",
       "      <th>p_email</th>\n",
       "    </tr>\n",
       "  </thead>\n",
       "  <tbody>\n",
       "    <tr>\n",
       "      <th>0</th>\n",
       "      <td>IA459</td>\n",
       "      <td>awareness and understanding wmds</td>\n",
       "      <td>EnGeo 1302</td>\n",
       "      <td>raabrw@jmu.edu</td>\n",
       "    </tr>\n",
       "    <tr>\n",
       "      <th>1</th>\n",
       "      <td>IA313</td>\n",
       "      <td>counterfactual reasoning</td>\n",
       "      <td>EnGeo 1204</td>\n",
       "      <td>hendrinx@jmu.edu</td>\n",
       "    </tr>\n",
       "    <tr>\n",
       "      <th>2</th>\n",
       "      <td>IA480</td>\n",
       "      <td>anti money laundering</td>\n",
       "      <td>ISAT 148</td>\n",
       "      <td>danzelox@jmu.edu</td>\n",
       "    </tr>\n",
       "    <tr>\n",
       "      <th>3</th>\n",
       "      <td>ia_new</td>\n",
       "      <td>new_c_name</td>\n",
       "      <td>online</td>\n",
       "      <td>new@jmu.edu</td>\n",
       "    </tr>\n",
       "    <tr>\n",
       "      <th>4</th>\n",
       "      <td>IA340</td>\n",
       "      <td>data mining</td>\n",
       "      <td>online</td>\n",
       "      <td>new_p@jmu.edu</td>\n",
       "    </tr>\n",
       "    <tr>\n",
       "      <th>5</th>\n",
       "      <td>new_lab4_c</td>\n",
       "      <td>new_lab4_n</td>\n",
       "      <td>new_lab4_r</td>\n",
       "      <td>new_lab4_email</td>\n",
       "    </tr>\n",
       "  </tbody>\n",
       "</table>\n",
       "</div>"
      ],
      "text/plain": [
       "     c_number                            c_name      c_room           p_email\n",
       "0       IA459  awareness and understanding wmds  EnGeo 1302    raabrw@jmu.edu\n",
       "1       IA313          counterfactual reasoning  EnGeo 1204  hendrinx@jmu.edu\n",
       "2       IA480             anti money laundering    ISAT 148  danzelox@jmu.edu\n",
       "3      ia_new                        new_c_name      online       new@jmu.edu\n",
       "4       IA340                       data mining      online     new_p@jmu.edu\n",
       "5  new_lab4_c                        new_lab4_n  new_lab4_r    new_lab4_email"
      ]
     },
     "execution_count": 95,
     "metadata": {},
     "output_type": "execute_result"
    }
   ],
   "source": [
    "df=pandas.read_sql_query('select * from gp12.course',conn)\n",
    "df[:]"
   ]
  },
  {
   "cell_type": "markdown",
   "id": "f25cc74b",
   "metadata": {},
   "source": [
    "## q6"
   ]
  },
  {
   "cell_type": "code",
   "execution_count": 96,
   "id": "64cd6526",
   "metadata": {},
   "outputs": [],
   "source": [
    "q6_update_course_sql =\"\"\"\n",
    "                    update gp12.course\n",
    "                    set p_email = '{}'\n",
    "                    where p_email ='{}'\n",
    "                    \"\"\".format('new_lab4_email','t2@jmu.edu')"
   ]
  },
  {
   "cell_type": "code",
   "execution_count": 97,
   "id": "5e8ed9c2",
   "metadata": {},
   "outputs": [],
   "source": [
    "cur.execute(q6_update_course_sql)"
   ]
  },
  {
   "cell_type": "code",
   "execution_count": 98,
   "id": "14b7c7ad",
   "metadata": {},
   "outputs": [],
   "source": [
    "conn.commit() # no error. commit"
   ]
  },
  {
   "cell_type": "code",
   "execution_count": 99,
   "id": "ec09794a",
   "metadata": {},
   "outputs": [
    {
     "data": {
      "text/html": [
       "<div>\n",
       "<style scoped>\n",
       "    .dataframe tbody tr th:only-of-type {\n",
       "        vertical-align: middle;\n",
       "    }\n",
       "\n",
       "    .dataframe tbody tr th {\n",
       "        vertical-align: top;\n",
       "    }\n",
       "\n",
       "    .dataframe thead th {\n",
       "        text-align: right;\n",
       "    }\n",
       "</style>\n",
       "<table border=\"1\" class=\"dataframe\">\n",
       "  <thead>\n",
       "    <tr style=\"text-align: right;\">\n",
       "      <th></th>\n",
       "      <th>c_number</th>\n",
       "      <th>c_name</th>\n",
       "      <th>c_room</th>\n",
       "      <th>p_email</th>\n",
       "    </tr>\n",
       "  </thead>\n",
       "  <tbody>\n",
       "    <tr>\n",
       "      <th>0</th>\n",
       "      <td>IA459</td>\n",
       "      <td>awareness and understanding wmds</td>\n",
       "      <td>EnGeo 1302</td>\n",
       "      <td>raabrw@jmu.edu</td>\n",
       "    </tr>\n",
       "    <tr>\n",
       "      <th>1</th>\n",
       "      <td>IA313</td>\n",
       "      <td>counterfactual reasoning</td>\n",
       "      <td>EnGeo 1204</td>\n",
       "      <td>hendrinx@jmu.edu</td>\n",
       "    </tr>\n",
       "    <tr>\n",
       "      <th>2</th>\n",
       "      <td>IA480</td>\n",
       "      <td>anti money laundering</td>\n",
       "      <td>ISAT 148</td>\n",
       "      <td>danzelox@jmu.edu</td>\n",
       "    </tr>\n",
       "    <tr>\n",
       "      <th>3</th>\n",
       "      <td>ia_new</td>\n",
       "      <td>new_c_name</td>\n",
       "      <td>online</td>\n",
       "      <td>new@jmu.edu</td>\n",
       "    </tr>\n",
       "    <tr>\n",
       "      <th>4</th>\n",
       "      <td>IA340</td>\n",
       "      <td>data mining</td>\n",
       "      <td>online</td>\n",
       "      <td>new_p@jmu.edu</td>\n",
       "    </tr>\n",
       "    <tr>\n",
       "      <th>5</th>\n",
       "      <td>new_lab4_c</td>\n",
       "      <td>new_lab4_n</td>\n",
       "      <td>new_lab4_r</td>\n",
       "      <td>new_lab4_email</td>\n",
       "    </tr>\n",
       "  </tbody>\n",
       "</table>\n",
       "</div>"
      ],
      "text/plain": [
       "     c_number                            c_name      c_room           p_email\n",
       "0       IA459  awareness and understanding wmds  EnGeo 1302    raabrw@jmu.edu\n",
       "1       IA313          counterfactual reasoning  EnGeo 1204  hendrinx@jmu.edu\n",
       "2       IA480             anti money laundering    ISAT 148  danzelox@jmu.edu\n",
       "3      ia_new                        new_c_name      online       new@jmu.edu\n",
       "4       IA340                       data mining      online     new_p@jmu.edu\n",
       "5  new_lab4_c                        new_lab4_n  new_lab4_r    new_lab4_email"
      ]
     },
     "execution_count": 99,
     "metadata": {},
     "output_type": "execute_result"
    }
   ],
   "source": [
    "df=pandas.read_sql_query('select * from gp12.course',conn)\n",
    "df[:]"
   ]
  },
  {
   "cell_type": "code",
   "execution_count": 100,
   "id": "fa1fc1e8",
   "metadata": {},
   "outputs": [],
   "source": [
    "q6_delete_professor_sql = \"\"\"\n",
    "                            delete from gp12.professor\n",
    "                            where p_email='{}'\n",
    "                            \"\"\".format('t2@jmu.edu')"
   ]
  },
  {
   "cell_type": "code",
   "execution_count": 101,
   "id": "7ce19c96",
   "metadata": {},
   "outputs": [],
   "source": [
    "cur.execute(q6_delete_professor_sql)"
   ]
  },
  {
   "cell_type": "code",
   "execution_count": 102,
   "id": "ede1d76e",
   "metadata": {},
   "outputs": [],
   "source": [
    "conn.commit() # no error. commit"
   ]
  },
  {
   "cell_type": "code",
   "execution_count": 103,
   "id": "6d42d90a",
   "metadata": {},
   "outputs": [
    {
     "data": {
      "text/html": [
       "<div>\n",
       "<style scoped>\n",
       "    .dataframe tbody tr th:only-of-type {\n",
       "        vertical-align: middle;\n",
       "    }\n",
       "\n",
       "    .dataframe tbody tr th {\n",
       "        vertical-align: top;\n",
       "    }\n",
       "\n",
       "    .dataframe thead th {\n",
       "        text-align: right;\n",
       "    }\n",
       "</style>\n",
       "<table border=\"1\" class=\"dataframe\">\n",
       "  <thead>\n",
       "    <tr style=\"text-align: right;\">\n",
       "      <th></th>\n",
       "      <th>p_email</th>\n",
       "      <th>p_name</th>\n",
       "      <th>p_office</th>\n",
       "    </tr>\n",
       "  </thead>\n",
       "  <tbody>\n",
       "    <tr>\n",
       "      <th>0</th>\n",
       "      <td>raabrw@jmu.edu</td>\n",
       "      <td>ronald raab</td>\n",
       "      <td>ISAT 156</td>\n",
       "    </tr>\n",
       "    <tr>\n",
       "      <th>1</th>\n",
       "      <td>hendrinx@jmu.edu</td>\n",
       "      <td>noel hendrickson</td>\n",
       "      <td>ISAT 200</td>\n",
       "    </tr>\n",
       "    <tr>\n",
       "      <th>2</th>\n",
       "      <td>danzelox@jmu.edu</td>\n",
       "      <td>orlandrew danzell</td>\n",
       "      <td>ISAT 107</td>\n",
       "    </tr>\n",
       "    <tr>\n",
       "      <th>3</th>\n",
       "      <td>new_p@jmu.edu</td>\n",
       "      <td>new_p</td>\n",
       "      <td>new_office</td>\n",
       "    </tr>\n",
       "    <tr>\n",
       "      <th>4</th>\n",
       "      <td>new@jmu.edu</td>\n",
       "      <td>new</td>\n",
       "      <td>new</td>\n",
       "    </tr>\n",
       "    <tr>\n",
       "      <th>5</th>\n",
       "      <td>new_pp@jmu.edu</td>\n",
       "      <td>new_p</td>\n",
       "      <td>new_offic</td>\n",
       "    </tr>\n",
       "    <tr>\n",
       "      <th>6</th>\n",
       "      <td>new_lab4_email</td>\n",
       "      <td>new_p_lab4_name</td>\n",
       "      <td>new_lab4_o</td>\n",
       "    </tr>\n",
       "  </tbody>\n",
       "</table>\n",
       "</div>"
      ],
      "text/plain": [
       "            p_email             p_name    p_office\n",
       "0    raabrw@jmu.edu        ronald raab    ISAT 156\n",
       "1  hendrinx@jmu.edu   noel hendrickson    ISAT 200\n",
       "2  danzelox@jmu.edu  orlandrew danzell    ISAT 107\n",
       "3     new_p@jmu.edu              new_p  new_office\n",
       "4       new@jmu.edu                new         new\n",
       "5    new_pp@jmu.edu              new_p   new_offic\n",
       "6    new_lab4_email    new_p_lab4_name  new_lab4_o"
      ]
     },
     "execution_count": 103,
     "metadata": {},
     "output_type": "execute_result"
    }
   ],
   "source": [
    "df=pandas.read_sql_query('select * from gp12.professor',conn)\n",
    "df[:]"
   ]
  },
  {
   "cell_type": "markdown",
   "id": "8a71afb7",
   "metadata": {},
   "source": [
    "## close the cursor and connnection"
   ]
  },
  {
   "cell_type": "code",
   "execution_count": 104,
   "id": "75706c0e",
   "metadata": {},
   "outputs": [],
   "source": [
    "cur.close()"
   ]
  },
  {
   "cell_type": "code",
   "execution_count": 105,
   "id": "8acdd869",
   "metadata": {},
   "outputs": [],
   "source": [
    "conn.close()"
   ]
  },
  {
   "cell_type": "code",
   "execution_count": null,
   "id": "54099b43",
   "metadata": {},
   "outputs": [],
   "source": []
  }
 ],
 "metadata": {
  "kernelspec": {
   "display_name": "conda_python3",
   "language": "python",
   "name": "conda_python3"
  },
  "language_info": {
   "codemirror_mode": {
    "name": "ipython",
    "version": 3
   },
   "file_extension": ".py",
   "mimetype": "text/x-python",
   "name": "python",
   "nbconvert_exporter": "python",
   "pygments_lexer": "ipython3",
   "version": "3.6.13"
  }
 },
 "nbformat": 4,
 "nbformat_minor": 5
}
